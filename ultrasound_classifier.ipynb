{
  "cells": [
    {
      "cell_type": "markdown",
      "metadata": {
        "vscode": {
          "languageId": "raw"
        }
      },
      "source": [
        "# Ultrasound Image Classification with CNN\n",
        "\n",
        "This notebook implements a shallow CNN for classifying ultrasound images of different organs (bladder, kidney, liver, gallbladder, spleen, bowel).\n",
        "\n",
        "## Features:\n",
        "- Custom PyTorch dataset with data augmentation\n",
        "- Shallow CNN architecture optimized for small datasets\n",
        "- Training with validation monitoring\n",
        "- Comprehensive evaluation and visualization\n"
      ]
    },
    {
      "cell_type": "markdown",
      "metadata": {
        "vscode": {
          "languageId": "raw"
        }
      },
      "source": [
        "## Import Libraries\n"
      ]
    },
    {
      "cell_type": "code",
      "execution_count": 1,
      "metadata": {},
      "outputs": [
        {
          "name": "stdout",
          "output_type": "stream",
          "text": [
            "Libraries imported successfully!\n",
            "PyTorch version: 2.7.0\n",
            "CUDA available: False\n"
          ]
        }
      ],
      "source": [
        "import numpy as np\n",
        "import cv2\n",
        "import os\n",
        "from sklearn.model_selection import train_test_split\n",
        "from sklearn.preprocessing import StandardScaler\n",
        "from sklearn.metrics import classification_report, confusion_matrix\n",
        "import torch\n",
        "import torch.nn as nn\n",
        "import torch.optim as optim\n",
        "from torch.utils.data import Dataset, DataLoader\n",
        "import torchvision.transforms as transforms\n",
        "from skimage.feature import graycomatrix, graycoprops\n",
        "from skimage.measure import regionprops_table, label\n",
        "from skimage.filters import sobel\n",
        "import matplotlib.pyplot as plt\n",
        "import seaborn as sns\n",
        "from PIL import Image\n",
        "import warnings\n",
        "warnings.filterwarnings('ignore')\n",
        "\n",
        "# Set random seeds for reproducibility\n",
        "np.random.seed(42)\n",
        "torch.manual_seed(42)\n",
        "\n",
        "print(\"Libraries imported successfully!\")\n",
        "print(f\"PyTorch version: {torch.__version__}\")\n",
        "print(f\"CUDA available: {torch.cuda.is_available()}\")\n"
      ]
    },
    {
      "cell_type": "markdown",
      "metadata": {
        "vscode": {
          "languageId": "raw"
        }
      },
      "source": [
        "## Configuration\n"
      ]
    },
    {
      "cell_type": "code",
      "execution_count": 2,
      "metadata": {},
      "outputs": [
        {
          "name": "stdout",
          "output_type": "stream",
          "text": [
            "Classes: ['bladder', 'kidney', 'liver', 'gallbladder', 'spleen', 'bowel']\n",
            "Number of classes: 6\n",
            "Data directory: ./datasets/img\n",
            "Training parameters: epochs=100, lr=0.001, batch_size=8\n"
          ]
        }
      ],
      "source": [
        "# Configuration parameters\n",
        "class_names = ['bladder', 'kidney', 'liver', 'gallbladder', 'spleen', 'bowel']\n",
        "data_dir = './datasets/img'\n",
        "num_epochs = 100\n",
        "learning_rate = 0.001\n",
        "batch_size = 8\n",
        "image_size = 128\n",
        "\n",
        "print(f\"Classes: {class_names}\")\n",
        "print(f\"Number of classes: {len(class_names)}\")\n",
        "print(f\"Data directory: {data_dir}\")\n",
        "print(f\"Training parameters: epochs={num_epochs}, lr={learning_rate}, batch_size={batch_size}\")\n"
      ]
    },
    {
      "cell_type": "markdown",
      "metadata": {
        "vscode": {
          "languageId": "raw"
        }
      },
      "source": [
        "## Custom Dataset Class\n",
        "\n",
        "The `UltrasoundDataset` class handles loading and preprocessing of ultrasound images with optional data augmentation for training.\n"
      ]
    },
    {
      "cell_type": "code",
      "execution_count": 3,
      "metadata": {},
      "outputs": [
        {
          "name": "stdout",
          "output_type": "stream",
          "text": [
            "UltrasoundDataset class defined successfully!\n"
          ]
        }
      ],
      "source": [
        "class UltrasoundDataset(Dataset):\n",
        "    \"\"\"Custom dataset for ultrasound images with augmentation\"\"\"\n",
        "    \n",
        "    def __init__(self, image_paths, labels, transform=None, augment=False):\n",
        "        self.image_paths = image_paths\n",
        "        self.labels = labels\n",
        "        self.transform = transform\n",
        "        self.augment = augment\n",
        "        \n",
        "        # Define augmentation transforms\n",
        "        if augment:\n",
        "            self.augmentation = transforms.Compose([\n",
        "                transforms.RandomRotation(10),\n",
        "                transforms.RandomHorizontalFlip(),\n",
        "                transforms.RandomAffine(degrees=0, translate=(0.1, 0.1)),\n",
        "                transforms.ColorJitter(brightness=0.2, contrast=0.2),\n",
        "            ])\n",
        "        else:\n",
        "            self.augmentation = None\n",
        "            \n",
        "    def __len__(self):\n",
        "        return len(self.image_paths)\n",
        "    \n",
        "    def __getitem__(self, idx):\n",
        "        # Load image\n",
        "        image = Image.open(self.image_paths[idx]).convert('RGB')\n",
        "        label = self.labels[idx]\n",
        "        \n",
        "        # Apply augmentation if training\n",
        "        if self.augmentation:\n",
        "            image = self.augmentation(image)\n",
        "            \n",
        "        # Apply transforms\n",
        "        if self.transform:\n",
        "            image = self.transform(image)\n",
        "            \n",
        "        return image, label\n",
        "\n",
        "print(\"UltrasoundDataset class defined successfully!\")\n"
      ]
    },
    {
      "cell_type": "markdown",
      "metadata": {
        "vscode": {
          "languageId": "raw"
        }
      },
      "source": [
        "## CNN Model Architecture\n",
        "\n",
        "The `ShallowCNN` is designed specifically for small datasets with three convolutional blocks and batch normalization.\n"
      ]
    },
    {
      "cell_type": "code",
      "execution_count": 4,
      "metadata": {},
      "outputs": [
        {
          "name": "stdout",
          "output_type": "stream",
          "text": [
            "Model created with 6 classes\n",
            "Model parameters: 156,550\n"
          ]
        }
      ],
      "source": [
        "class ShallowCNN(nn.Module):\n",
        "    \"\"\"Shallow CNN designed for small datasets\"\"\"\n",
        "    \n",
        "    def __init__(self, num_classes=2):\n",
        "        super(ShallowCNN, self).__init__()\n",
        "        \n",
        "        # Feature extraction layers\n",
        "        self.features = nn.Sequential(\n",
        "            # Conv Block 1\n",
        "            nn.Conv2d(3, 16, kernel_size=5, padding=2),\n",
        "            nn.BatchNorm2d(16),\n",
        "            nn.ReLU(inplace=True),\n",
        "            nn.MaxPool2d(kernel_size=2, stride=2),\n",
        "            \n",
        "            # Conv Block 2\n",
        "            nn.Conv2d(16, 32, kernel_size=3, padding=1),\n",
        "            nn.BatchNorm2d(32),\n",
        "            nn.ReLU(inplace=True),\n",
        "            nn.MaxPool2d(kernel_size=2, stride=2),\n",
        "            \n",
        "            # Conv Block 3\n",
        "            nn.Conv2d(32, 64, kernel_size=3, padding=1),\n",
        "            nn.BatchNorm2d(64),\n",
        "            nn.ReLU(inplace=True),\n",
        "            nn.AdaptiveAvgPool2d((4, 4))\n",
        "        )\n",
        "        \n",
        "        # Classifier\n",
        "        self.classifier = nn.Sequential(\n",
        "            nn.Dropout(0.5),\n",
        "            nn.Linear(64 * 4 * 4, 128),\n",
        "            nn.ReLU(inplace=True),\n",
        "            nn.Dropout(0.5),\n",
        "            nn.Linear(128, num_classes)\n",
        "        )\n",
        "        \n",
        "    def forward(self, x):\n",
        "        x = self.features(x)\n",
        "        x = x.view(x.size(0), -1)\n",
        "        x = self.classifier(x)\n",
        "        return x\n",
        "    \n",
        "    def get_features(self, x):\n",
        "        \"\"\"Extract features from the last conv layer\"\"\"\n",
        "        x = self.features(x)\n",
        "        return x.view(x.size(0), -1)\n",
        "\n",
        "# Create model instance\n",
        "model = ShallowCNN(num_classes=len(class_names))\n",
        "print(f\"Model created with {len(class_names)} classes\")\n",
        "print(f\"Model parameters: {sum(p.numel() for p in model.parameters()):,}\")\n"
      ]
    },
    {
      "cell_type": "markdown",
      "metadata": {
        "vscode": {
          "languageId": "raw"
        }
      },
      "source": [
        "## Data Loading Functions\n"
      ]
    },
    {
      "cell_type": "code",
      "execution_count": 5,
      "metadata": {},
      "outputs": [
        {
          "name": "stdout",
          "output_type": "stream",
          "text": [
            "Data loading function defined successfully!\n"
          ]
        }
      ],
      "source": [
        "def load_data(data_dir, classes=['bladder', 'kidney']):\n",
        "    \"\"\"Load ultrasound images and labels\"\"\"\n",
        "    images_train = []\n",
        "    labels_train = []\n",
        "    images_test = []\n",
        "    labels_test = []\n",
        "    \n",
        "    # Load training data\n",
        "    for i, class_name in enumerate(classes):\n",
        "        train_dir = os.path.join(data_dir, 'train', class_name)\n",
        "        test_dir = os.path.join(data_dir, 'test', class_name)\n",
        "        \n",
        "        # Training images\n",
        "        if os.path.exists(train_dir):\n",
        "            for img_name in os.listdir(train_dir):\n",
        "                if img_name.endswith(('.png', '.jpg', '.jpeg')):\n",
        "                    img_path = os.path.join(train_dir, img_name)\n",
        "                    images_train.append(img_path)\n",
        "                    labels_train.append(i)\n",
        "                \n",
        "        # Test images\n",
        "        if os.path.exists(test_dir):\n",
        "            for img_name in os.listdir(test_dir):\n",
        "                if img_name.endswith(('.png', '.jpg', '.jpeg')):\n",
        "                    img_path = os.path.join(test_dir, img_name)\n",
        "                    images_test.append(img_path)\n",
        "                    labels_test.append(i)\n",
        "    \n",
        "    return (np.array(images_train), np.array(labels_train), \n",
        "            np.array(images_test), np.array(labels_test))\n",
        "\n",
        "print(\"Data loading function defined successfully!\")\n"
      ]
    },
    {
      "cell_type": "markdown",
      "metadata": {
        "vscode": {
          "languageId": "raw"
        }
      },
      "source": [
        "## Load and Prepare Data\n"
      ]
    },
    {
      "cell_type": "code",
      "execution_count": 6,
      "metadata": {},
      "outputs": [
        {
          "name": "stdout",
          "output_type": "stream",
          "text": [
            "Loading data...\n",
            "Training samples: 240\n",
            "Validation samples: 60\n",
            "Test samples: 60\n",
            "Class bladder: 40 training samples\n",
            "Class kidney: 40 training samples\n",
            "Class liver: 40 training samples\n",
            "Class gallbladder: 40 training samples\n",
            "Class spleen: 40 training samples\n",
            "Class bowel: 40 training samples\n"
          ]
        }
      ],
      "source": [
        "# Load data\n",
        "print(\"Loading data...\")\n",
        "X_train_paths, y_train, X_test_paths, y_test = load_data(data_dir, classes=class_names)\n",
        "\n",
        "# Create validation set from training data\n",
        "X_train_paths, X_val_paths, y_train, y_val = train_test_split(\n",
        "    X_train_paths, y_train, test_size=0.2, random_state=42, \n",
        "    stratify=y_train if len(y_train) > 0 else None\n",
        ")\n",
        "\n",
        "print(f\"Training samples: {len(X_train_paths)}\")\n",
        "print(f\"Validation samples: {len(X_val_paths)}\")\n",
        "print(f\"Test samples: {len(X_test_paths)}\")\n",
        "\n",
        "# Check class distribution\n",
        "if len(y_train) > 0:\n",
        "    unique, counts = np.unique(y_train, return_counts=True)\n",
        "    for i, (cls, count) in enumerate(zip(unique, counts)):\n",
        "        print(f\"Class {class_names[cls]}: {count} training samples\")\n"
      ]
    },
    {
      "cell_type": "markdown",
      "metadata": {
        "vscode": {
          "languageId": "raw"
        }
      },
      "source": [
        "## Data Transforms and Datasets\n"
      ]
    },
    {
      "cell_type": "code",
      "execution_count": 7,
      "metadata": {},
      "outputs": [
        {
          "name": "stdout",
          "output_type": "stream",
          "text": [
            "Data transforms and loaders created successfully!\n",
            "Train batches: 30\n",
            "Validation batches: 8\n",
            "Test batches: 8\n"
          ]
        }
      ],
      "source": [
        "# Define transforms\n",
        "transform_train = transforms.Compose([\n",
        "    transforms.Resize((image_size, image_size)),\n",
        "    transforms.ToTensor(),\n",
        "    transforms.Normalize(mean=[0.485, 0.456, 0.406], std=[0.229, 0.224, 0.225])\n",
        "])\n",
        "\n",
        "transform_test = transforms.Compose([\n",
        "    transforms.Resize((image_size, image_size)),\n",
        "    transforms.ToTensor(),\n",
        "    transforms.Normalize(mean=[0.485, 0.456, 0.406], std=[0.229, 0.224, 0.225])\n",
        "])\n",
        "\n",
        "# Create datasets\n",
        "train_dataset = UltrasoundDataset(X_train_paths, y_train, transform_train, augment=True)\n",
        "val_dataset = UltrasoundDataset(X_val_paths, y_val, transform_test, augment=False)\n",
        "test_dataset = UltrasoundDataset(X_test_paths, y_test, transform_test, augment=False)\n",
        "\n",
        "# Create data loaders\n",
        "train_loader = DataLoader(train_dataset, batch_size=batch_size, shuffle=True)\n",
        "val_loader = DataLoader(val_dataset, batch_size=batch_size, shuffle=False)\n",
        "test_loader = DataLoader(test_dataset, batch_size=batch_size, shuffle=False)\n",
        "\n",
        "print(\"Data transforms and loaders created successfully!\")\n",
        "print(f\"Train batches: {len(train_loader)}\")\n",
        "print(f\"Validation batches: {len(val_loader)}\")\n",
        "print(f\"Test batches: {len(test_loader)}\")\n"
      ]
    },
    {
      "cell_type": "markdown",
      "metadata": {
        "vscode": {
          "languageId": "raw"
        }
      },
      "source": [
        "## Training Function\n"
      ]
    },
    {
      "cell_type": "code",
      "execution_count": 8,
      "metadata": {},
      "outputs": [
        {
          "name": "stdout",
          "output_type": "stream",
          "text": [
            "Training function defined successfully!\n"
          ]
        }
      ],
      "source": [
        "def train_model(model, train_loader, val_loader, num_epochs=50, lr=0.001):\n",
        "    \"\"\"Train the CNN model\"\"\"\n",
        "    device = torch.device('cuda' if torch.cuda.is_available() else 'cpu')\n",
        "    print(f\"Training on device: {device}\")\n",
        "    model = model.to(device)\n",
        "    \n",
        "    criterion = nn.CrossEntropyLoss()\n",
        "    optimizer = optim.Adam(model.parameters(), lr=lr, weight_decay=1e-4)\n",
        "    scheduler = optim.lr_scheduler.ReduceLROnPlateau(optimizer, patience=5, factor=0.5)\n",
        "    \n",
        "    train_losses = []\n",
        "    val_losses = []\n",
        "    val_accuracies = []\n",
        "    \n",
        "    for epoch in range(num_epochs):\n",
        "        # Training phase\n",
        "        model.train()\n",
        "        train_loss = 0.0\n",
        "        \n",
        "        for images, labels in train_loader:\n",
        "            images = images.to(device)\n",
        "            labels = labels.to(device)\n",
        "            \n",
        "            optimizer.zero_grad()\n",
        "            outputs = model(images)\n",
        "            loss = criterion(outputs, labels)\n",
        "            loss.backward()\n",
        "            optimizer.step()\n",
        "            \n",
        "            train_loss += loss.item()\n",
        "        \n",
        "        # Validation phase\n",
        "        model.eval()\n",
        "        val_loss = 0.0\n",
        "        correct = 0\n",
        "        total = 0\n",
        "        \n",
        "        with torch.no_grad():\n",
        "            for images, labels in val_loader:\n",
        "                images = images.to(device)\n",
        "                labels = labels.to(device)\n",
        "                \n",
        "                outputs = model(images)\n",
        "                loss = criterion(outputs, labels)\n",
        "                val_loss += loss.item()\n",
        "                \n",
        "                _, predicted = torch.max(outputs.data, 1)\n",
        "                total += labels.size(0)\n",
        "                correct += (predicted == labels).sum().item()\n",
        "        \n",
        "        avg_train_loss = train_loss / len(train_loader) if len(train_loader) > 0 else 0\n",
        "        avg_val_loss = val_loss / len(val_loader) if len(val_loader) > 0 else 0\n",
        "        val_accuracy = 100 * correct / total if total > 0 else 0\n",
        "        \n",
        "        train_losses.append(avg_train_loss)\n",
        "        val_losses.append(avg_val_loss)\n",
        "        val_accuracies.append(val_accuracy)\n",
        "        \n",
        "        scheduler.step(avg_val_loss)\n",
        "        \n",
        "        if (epoch + 1) % 10 == 0:\n",
        "            print(f'Epoch [{epoch+1}/{num_epochs}], '\n",
        "                  f'Train Loss: {avg_train_loss:.4f}, '\n",
        "                  f'Val Loss: {avg_val_loss:.4f}, '\n",
        "                  f'Val Accuracy: {val_accuracy:.2f}%')\n",
        "    \n",
        "    return model, train_losses, val_losses, val_accuracies\n",
        "\n",
        "print(\"Training function defined successfully!\")\n"
      ]
    },
    {
      "cell_type": "markdown",
      "metadata": {
        "vscode": {
          "languageId": "raw"
        }
      },
      "source": [
        "## Train the Model\n",
        "\n",
        "Now let's train the model. This will take some time depending on your hardware and the size of your dataset.\n"
      ]
    },
    {
      "cell_type": "code",
      "execution_count": 9,
      "metadata": {},
      "outputs": [
        {
          "name": "stdout",
          "output_type": "stream",
          "text": [
            "Starting training...\n",
            "Training on device: cpu\n",
            "Epoch [10/100], Train Loss: 0.4799, Val Loss: 0.1085, Val Accuracy: 96.67%\n",
            "Epoch [20/100], Train Loss: 0.2918, Val Loss: 0.0528, Val Accuracy: 100.00%\n",
            "Epoch [30/100], Train Loss: 0.3795, Val Loss: 0.0496, Val Accuracy: 98.33%\n",
            "Epoch [40/100], Train Loss: 0.1349, Val Loss: 0.0054, Val Accuracy: 100.00%\n",
            "Epoch [50/100], Train Loss: 0.1501, Val Loss: 0.0034, Val Accuracy: 100.00%\n",
            "Epoch [60/100], Train Loss: 0.1504, Val Loss: 0.0034, Val Accuracy: 100.00%\n",
            "Epoch [70/100], Train Loss: 0.0822, Val Loss: 0.0036, Val Accuracy: 100.00%\n",
            "Epoch [80/100], Train Loss: 0.1165, Val Loss: 0.0024, Val Accuracy: 100.00%\n",
            "Epoch [90/100], Train Loss: 0.0863, Val Loss: 0.0021, Val Accuracy: 100.00%\n",
            "Epoch [100/100], Train Loss: 0.0922, Val Loss: 0.0020, Val Accuracy: 100.00%\n",
            "Training completed!\n"
          ]
        }
      ],
      "source": [
        "# Train model\n",
        "print(\"Starting training...\")\n",
        "if len(train_loader) > 0 and len(val_loader) > 0:\n",
        "    model, train_losses, val_losses, val_accuracies = train_model(\n",
        "        model, train_loader, val_loader, num_epochs=num_epochs, lr=learning_rate\n",
        "    )\n",
        "    print(\"Training completed!\")\n",
        "else:\n",
        "    print(\"No training data found. Please check your data directory structure.\")\n",
        "    print(\"Expected structure: ./datasets/img/train/{class_name}/ and ./datasets/img/test/{class_name}/\")\n"
      ]
    },
    {
      "cell_type": "markdown",
      "metadata": {
        "vscode": {
          "languageId": "raw"
        }
      },
      "source": [
        "## Visualization Functions\n"
      ]
    },
    {
      "cell_type": "code",
      "execution_count": 10,
      "metadata": {},
      "outputs": [
        {
          "name": "stdout",
          "output_type": "stream",
          "text": [
            "Visualization functions defined successfully!\n"
          ]
        }
      ],
      "source": [
        "def plot_training_history(train_losses, val_losses, val_accuracies):\n",
        "    \"\"\"Plot training history\"\"\"\n",
        "    fig, (ax1, ax2) = plt.subplots(1, 2, figsize=(12, 4))\n",
        "    \n",
        "    # Loss plot\n",
        "    ax1.plot(train_losses, label='Train Loss')\n",
        "    ax1.plot(val_losses, label='Val Loss')\n",
        "    ax1.set_xlabel('Epoch')\n",
        "    ax1.set_ylabel('Loss')\n",
        "    ax1.set_title('Training and Validation Loss')\n",
        "    ax1.legend()\n",
        "    ax1.grid(True)\n",
        "    \n",
        "    # Accuracy plot\n",
        "    ax2.plot(val_accuracies, label='Val Accuracy')\n",
        "    ax2.set_xlabel('Epoch')\n",
        "    ax2.set_ylabel('Accuracy (%)')\n",
        "    ax2.set_title('Validation Accuracy')\n",
        "    ax2.legend()\n",
        "    ax2.grid(True)\n",
        "    \n",
        "    plt.tight_layout()\n",
        "    plt.show()\n",
        "\n",
        "def evaluate_model(model, test_loader, class_names):\n",
        "    \"\"\"Evaluate the model on test data\"\"\"\n",
        "    device = torch.device('cuda' if torch.cuda.is_available() else 'cpu')\n",
        "    model.eval()\n",
        "    \n",
        "    all_predictions = []\n",
        "    all_labels = []\n",
        "    \n",
        "    with torch.no_grad():\n",
        "        for images, labels in test_loader:\n",
        "            images = images.to(device)\n",
        "            outputs = model(images)\n",
        "            _, predicted = torch.max(outputs.data, 1)\n",
        "            \n",
        "            all_predictions.extend(predicted.cpu().numpy())\n",
        "            all_labels.extend(labels.numpy())\n",
        "    \n",
        "    # Print classification report\n",
        "    if len(all_labels) > 0:\n",
        "        print(\"\\nClassification Report:\")\n",
        "        print(classification_report(all_labels, all_predictions, target_names=class_names))\n",
        "        \n",
        "        # Confusion matrix\n",
        "        cm = confusion_matrix(all_labels, all_predictions)\n",
        "        plt.figure(figsize=(8, 6))\n",
        "        sns.heatmap(cm, annot=True, fmt='d', cmap='Blues', \n",
        "                    xticklabels=class_names, yticklabels=class_names)\n",
        "        plt.title('Confusion Matrix')\n",
        "        plt.ylabel('True Label')\n",
        "        plt.xlabel('Predicted Label')\n",
        "        plt.tight_layout()\n",
        "        plt.show()\n",
        "    \n",
        "    return all_predictions, all_labels\n",
        "\n",
        "print(\"Visualization functions defined successfully!\")\n"
      ]
    },
    {
      "cell_type": "markdown",
      "metadata": {
        "vscode": {
          "languageId": "raw"
        }
      },
      "source": [
        "## Plot Training History\n",
        "\n",
        "Let's visualize the training progress with loss and accuracy curves.\n"
      ]
    },
    {
      "cell_type": "code",
      "execution_count": 11,
      "metadata": {},
      "outputs": [
        {
          "data": {
            "image/png": "[encoded data removed]",
            "text/plain": [
              "<Figure size 1200x400 with 2 Axes>"
            ]
          },
          "metadata": {},
          "output_type": "display_data"
        }
      ],
      "source": [
        "# Plot training history\n",
        "if 'train_losses' in locals():\n",
        "    plot_training_history(train_losses, val_losses, val_accuracies)\n",
        "else:\n",
        "    print(\"Training has not been completed yet. Run the training cell first.\")\n"
      ]
    },
    {
      "cell_type": "markdown",
      "metadata": {
        "vscode": {
          "languageId": "raw"
        }
      },
      "source": [
        "## Model Evaluation\n",
        "\n",
        "Evaluate the trained model on the test set and generate classification metrics.\n"
      ]
    },
    {
      "cell_type": "code",
      "execution_count": 12,
      "metadata": {},
      "outputs": [
        {
          "name": "stdout",
          "output_type": "stream",
          "text": [
            "Evaluating on test set...\n",
            "\n",
            "Classification Report:\n",
            "              precision    recall  f1-score   support\n",
            "\n",
            "     bladder       1.00      0.80      0.89        10\n",
            "      kidney       0.77      1.00      0.87        10\n",
            "       liver       1.00      0.90      0.95        10\n",
            " gallbladder       1.00      1.00      1.00        10\n",
            "      spleen       1.00      1.00      1.00        10\n",
            "       bowel       1.00      1.00      1.00        10\n",
            "\n",
            "    accuracy                           0.95        60\n",
            "   macro avg       0.96      0.95      0.95        60\n",
            "weighted avg       0.96      0.95      0.95        60\n",
            "\n"
          ]
        },
        {
          "data": {
            "image/png": "[encoded data removed]",
            "text/plain": [
              "<Figure size 800x600 with 2 Axes>"
            ]
          },
          "metadata": {},
          "output_type": "display_data"
        },
        {
          "name": "stdout",
          "output_type": "stream",
          "text": [
            "Evaluation completed!\n"
          ]
        }
      ],
      "source": [
        "# Evaluate on test set\n",
        "print(\"Evaluating on test set...\")\n",
        "if len(test_loader) > 0 and 'model' in locals():\n",
        "    predictions, labels = evaluate_model(model, test_loader, class_names)\n",
        "    print(\"Evaluation completed!\")\n",
        "else:\n",
        "    print(\"No test data found or model not trained yet.\")\n"
      ]
    },
    {
      "cell_type": "markdown",
      "metadata": {
        "vscode": {
          "languageId": "raw"
        }
      },
      "source": [
        "## Save and Load Model\n"
      ]
    },
    {
      "cell_type": "code",
      "execution_count": 13,
      "metadata": {},
      "outputs": [
        {
          "name": "stdout",
          "output_type": "stream",
          "text": [
            "Model saved as 'ultrasound_classifier.pth'\n",
            "Model info saved as 'model_info.json'\n"
          ]
        }
      ],
      "source": [
        "# Save model\n",
        "if 'model' in locals():\n",
        "    torch.save(model.state_dict(), 'ultrasound_classifier.pth')\n",
        "    print(\"Model saved as 'ultrasound_classifier.pth'\")\n",
        "    \n",
        "    # Save model architecture info\n",
        "    model_info = {\n",
        "        'num_classes': len(class_names),\n",
        "        'class_names': class_names,\n",
        "        'image_size': image_size,\n",
        "        'model_parameters': sum(p.numel() for p in model.parameters())\n",
        "    }\n",
        "    \n",
        "    import json\n",
        "    with open('model_info.json', 'w') as f:\n",
        "        json.dump(model_info, f, indent=2)\n",
        "    print(\"Model info saved as 'model_info.json'\")\n",
        "else:\n",
        "    print(\"Model not available for saving.\")\n"
      ]
    },
    {
      "cell_type": "markdown",
      "metadata": {
        "vscode": {
          "languageId": "raw"
        }
      },
      "source": [
        "## Load Saved Model (Optional)\n",
        "\n",
        "Use this cell to load a previously saved model.\n"
      ]
    },
    {
      "cell_type": "code",
      "execution_count": 14,
      "metadata": {},
      "outputs": [
        {
          "name": "stdout",
          "output_type": "stream",
          "text": [
            "Model loading code ready (uncomment to use)\n"
          ]
        }
      ],
      "source": [
        "# Load saved model (uncomment to use)\n",
        "# model_path = 'ultrasound_classifier.pth'\n",
        "# if os.path.exists(model_path):\n",
        "#     loaded_model = ShallowCNN(num_classes=len(class_names))\n",
        "#     loaded_model.load_state_dict(torch.load(model_path, map_location='cpu'))\n",
        "#     loaded_model.eval()\n",
        "#     print(f\"Model loaded from {model_path}\")\n",
        "# else:\n",
        "#     print(f\"Model file {model_path} not found\")\n",
        "\n",
        "print(\"Model loading code ready (uncomment to use)\")\n"
      ]
    },
    {
      "cell_type": "markdown",
      "metadata": {
        "vscode": {
          "languageId": "raw"
        }
      },
      "source": [
        "## Sample Prediction Function\n",
        "\n",
        "Function to make predictions on individual images.\n"
      ]
    },
    {
      "cell_type": "code",
      "execution_count": 15,
      "metadata": {},
      "outputs": [
        {
          "name": "stdout",
          "output_type": "stream",
          "text": [
            "Prediction functions defined successfully!\n"
          ]
        }
      ],
      "source": [
        "def predict_single_image(model, image_path, transform, class_names):\n",
        "    \"\"\"Make prediction on a single image\"\"\"\n",
        "    device = torch.device('cuda' if torch.cuda.is_available() else 'cpu')\n",
        "    model.eval()\n",
        "    \n",
        "    # Load and preprocess image\n",
        "    image = Image.open(image_path).convert('RGB')\n",
        "    image_tensor = transform(image).unsqueeze(0).to(device)\n",
        "    \n",
        "    # Make prediction\n",
        "    with torch.no_grad():\n",
        "        outputs = model(image_tensor)\n",
        "        probabilities = torch.nn.functional.softmax(outputs, dim=1)\n",
        "        confidence, predicted = torch.max(probabilities, 1)\n",
        "        \n",
        "    predicted_class = class_names[predicted.item()]\n",
        "    confidence_score = confidence.item()\n",
        "    \n",
        "    return predicted_class, confidence_score, probabilities.cpu().numpy()[0]\n",
        "\n",
        "def visualize_prediction(image_path, predicted_class, confidence, probabilities, class_names):\n",
        "    \"\"\"Visualize prediction results\"\"\"\n",
        "    fig, (ax1, ax2) = plt.subplots(1, 2, figsize=(12, 5))\n",
        "    \n",
        "    # Display image\n",
        "    image = Image.open(image_path)\n",
        "    ax1.imshow(image)\n",
        "    ax1.set_title(f'Predicted: {predicted_class}\\nConfidence: {confidence:.2%}')\n",
        "    ax1.axis('off')\n",
        "    \n",
        "    # Display probability distribution\n",
        "    ax2.bar(class_names, probabilities)\n",
        "    ax2.set_title('Class Probabilities')\n",
        "    ax2.set_ylabel('Probability')\n",
        "    ax2.tick_params(axis='x', rotation=45)\n",
        "    \n",
        "    plt.tight_layout()\n",
        "    plt.show()\n",
        "\n",
        "print(\"Prediction functions defined successfully!\")\n"
      ]
    },
    {
      "cell_type": "markdown",
      "metadata": {
        "vscode": {
          "languageId": "raw"
        }
      },
      "source": [
        "## Test Single Image Prediction\n",
        "\n",
        "Use this cell to test predictions on individual images.\n"
      ]
    },
    {
      "cell_type": "code",
      "execution_count": 16,
      "metadata": {},
      "outputs": [
        {
          "name": "stdout",
          "output_type": "stream",
          "text": [
            "Sample image: ./datasets/img/test/bladder/bladder-0054.png\n",
            "Predicted class: bladder\n",
            "Confidence: 99.94%\n"
          ]
        },
        {
          "data": {
            "image/png": "[encoded data removed]",
            "text/plain": [
              "<Figure size 1200x500 with 2 Axes>"
            ]
          },
          "metadata": {},
          "output_type": "display_data"
        }
      ],
      "source": [
        "# Test prediction on a single image\n",
        "if 'model' in locals() and len(X_test_paths) > 0:\n",
        "    # Use the first test image as an example\n",
        "    sample_image_path = X_test_paths[0]\n",
        "    \n",
        "    predicted_class, confidence, probabilities = predict_single_image(\n",
        "        model, sample_image_path, transform_test, class_names\n",
        "    )\n",
        "    \n",
        "    print(f\"Sample image: {sample_image_path}\")\n",
        "    print(f\"Predicted class: {predicted_class}\")\n",
        "    print(f\"Confidence: {confidence:.2%}\")\n",
        "    \n",
        "    # Visualize the prediction\n",
        "    visualize_prediction(sample_image_path, predicted_class, confidence, probabilities, class_names)\n",
        "else:\n",
        "    print(\"Model not available or no test images found.\")\n",
        "    print(\"To test with your own image, replace 'sample_image_path' with your image path.\")\n"
      ]
    },
    {
      "cell_type": "markdown",
      "metadata": {
        "vscode": {
          "languageId": "raw"
        }
      },
      "source": [
        "## Summary\n",
        "\n",
        "This notebook provides a complete pipeline for ultrasound image classification:\n",
        "\n",
        "1. **Data Loading**: Loads images from organized directory structure\n",
        "2. **Data Preprocessing**: Applies transforms and augmentation\n",
        "3. **Model Architecture**: Shallow CNN optimized for small datasets\n",
        "4. **Training**: Full training loop with validation monitoring\n",
        "5. **Evaluation**: Comprehensive metrics and visualizations\n",
        "6. **Prediction**: Functions for single image prediction\n",
        "\n",
        "### Next Steps:\n",
        "- Experiment with different architectures\n",
        "- Try transfer learning with pre-trained models\n",
        "- Implement cross-validation\n",
        "- Add more sophisticated data augmentation\n",
        "- Explore feature visualization techniques\n",
        "\n",
        "### Requirements:\n",
        "Make sure your data is organized as:\n",
        "```\n",
        "datasets/img/\n",
        "├── train/\n",
        "│   ├── bladder/\n",
        "│   ├── kidney/\n",
        "│   ├── liver/\n",
        "│   ├── gallbladder/\n",
        "│   ├── spleen/\n",
        "│   └── bowel/\n",
        "└── test/\n",
        "    ├── bladder/\n",
        "    ├── kidney/\n",
        "    ├── liver/\n",
        "    ├── gallbladder/\n",
        "    ├── spleen/\n",
        "    └── bowel/\n",
        "```\n"
      ]
    }
  ],
  "metadata": {
    "kernelspec": {
      "display_name": "dnn-project",
      "language": "python",
      "name": "python3"
    },
    "language_info": {
      "codemirror_mode": {
        "name": "ipython",
        "version": 3
      },
      "file_extension": ".py",
      "mimetype": "text/x-python",
      "name": "python",
      "nbconvert_exporter": "python",
      "pygments_lexer": "ipython3",
      "version": "3.12.9"
    }
  },
  "nbformat": 4,
  "nbformat_minor": 2
}
